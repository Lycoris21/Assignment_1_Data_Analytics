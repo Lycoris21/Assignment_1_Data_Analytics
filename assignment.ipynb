{
 "cells": [
  {
   "cell_type": "markdown",
   "id": "d4fe8441",
   "metadata": {},
   "source": [
    "# Balanced Risk Set Matching Implementations\n",
    "### CIS 3203N GROUP 3\n",
    "\n",
    "Thesis Partner 1: Dejito, Christine Ann  \n",
    "Thesis Partner 2: Roca, Zophia Maureen  \n",
    "Date: May 7, 2025\n",
    "\n",
    "---\n",
    "\n",
    "## Description\n",
    "\n",
    "This repository contains our implementation of the procedures described in the provided journal article, focusing on **Balanced Risk Set Matching**. The goal of this assignment is to test our algorithmic thinking and ability to translate research methodology into working Python code.\n",
    "\n",
    "---\n",
    "\n",
    "## Instructions\n",
    "\n",
    "- This is done by pair, preferably your thesis partner.\n",
    "- Each person should create a Github Repo titled 'Assignment_1_Data_Analytics'.\n",
    "- Read the journal provided.\n",
    "- Develop a Python implementation of the procedures in the journal.\n",
    "\n",
    "---"
   ]
  }
 ],
 "metadata": {
  "language_info": {
   "name": "python"
  }
 },
 "nbformat": 4,
 "nbformat_minor": 5
}
